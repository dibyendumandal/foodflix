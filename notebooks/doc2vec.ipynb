{
 "cells": [
  {
   "cell_type": "markdown",
   "metadata": {},
   "source": [
    "Load file\n",
    "======"
   ]
  },
  {
   "cell_type": "code",
   "execution_count": 2,
   "metadata": {},
   "outputs": [],
   "source": [
    "import pandas as pd\n",
    "with open('../data/clean_ingredients_new.csv','r') as fp:\n",
    "    data = pd.read_csv(fp)"
   ]
  },
  {
   "cell_type": "code",
   "execution_count": 3,
   "metadata": {},
   "outputs": [
    {
     "data": {
      "text/html": [
       "<div>\n",
       "<style scoped>\n",
       "    .dataframe tbody tr th:only-of-type {\n",
       "        vertical-align: middle;\n",
       "    }\n",
       "\n",
       "    .dataframe tbody tr th {\n",
       "        vertical-align: top;\n",
       "    }\n",
       "\n",
       "    .dataframe thead th {\n",
       "        text-align: right;\n",
       "    }\n",
       "</style>\n",
       "<table border=\"1\" class=\"dataframe\">\n",
       "  <thead>\n",
       "    <tr style=\"text-align: right;\">\n",
       "      <th></th>\n",
       "      <th>recipe_id</th>\n",
       "      <th>ingredients</th>\n",
       "    </tr>\n",
       "  </thead>\n",
       "  <tbody>\n",
       "    <tr>\n",
       "      <th>0</th>\n",
       "      <td>220000</td>\n",
       "      <td>angel food cake mix instant coffee coffee liqu...</td>\n",
       "    </tr>\n",
       "    <tr>\n",
       "      <th>1</th>\n",
       "      <td>220001</td>\n",
       "      <td>artichokes roma plum tomatoes round tomatoes t...</td>\n",
       "    </tr>\n",
       "    <tr>\n",
       "      <th>2</th>\n",
       "      <td>220002</td>\n",
       "      <td>cabbage salt ground beef ground pork white ric...</td>\n",
       "    </tr>\n",
       "    <tr>\n",
       "      <th>3</th>\n",
       "      <td>220003</td>\n",
       "      <td>green bell peppers seeds ground beef white ric...</td>\n",
       "    </tr>\n",
       "    <tr>\n",
       "      <th>4</th>\n",
       "      <td>220004</td>\n",
       "      <td>chicken parsnips carrots celery onion dill par...</td>\n",
       "    </tr>\n",
       "  </tbody>\n",
       "</table>\n",
       "</div>"
      ],
      "text/plain": [
       "   recipe_id                                        ingredients\n",
       "0     220000  angel food cake mix instant coffee coffee liqu...\n",
       "1     220001  artichokes roma plum tomatoes round tomatoes t...\n",
       "2     220002  cabbage salt ground beef ground pork white ric...\n",
       "3     220003  green bell peppers seeds ground beef white ric...\n",
       "4     220004  chicken parsnips carrots celery onion dill par..."
      ]
     },
     "execution_count": 3,
     "metadata": {},
     "output_type": "execute_result"
    }
   ],
   "source": [
    "data.head()"
   ]
  },
  {
   "cell_type": "markdown",
   "metadata": {},
   "source": [
    "Get training data ( [recipe_idx, ingredient_idx] )\n",
    "============== "
   ]
  },
  {
   "cell_type": "code",
   "execution_count": 3,
   "metadata": {},
   "outputs": [],
   "source": [
    "import random\n",
    "import numpy as np\n",
    "\n",
    "class RecipeInfo():\n",
    "    \n",
    "    def __init__(self, data):\n",
    "        \n",
    "        self.vocabulary = set()\n",
    "        self.word_to_index = {}\n",
    "        \n",
    "        # bulid the vocabulary\n",
    "        \n",
    "        for p in data['ingredients']:\n",
    "            \n",
    "            self.vocabulary.update(p.split())\n",
    "        \n",
    "        self.vocabulary = list(self.vocabulary)\n",
    "        \n",
    "        for i, w in enumerate(self.vocabulary):\n",
    "            \n",
    "            self.word_to_index[w] = i\n",
    "            \n",
    "        # use word index in ingredients\n",
    "        \n",
    "        self.ingredients = data['ingredients'].apply(self.wordstr_to_indexlist)\n",
    "        \n",
    "     \n",
    "    def wordstr_to_indexlist(self, wordstr):\n",
    "        \n",
    "        return [self.word_to_index[w] for w in wordstr.split()]\n",
    "    \n",
    "    \n",
    "    def get_samples(self):\n",
    "        \n",
    "        samples = self.ingredients.apply(lambda x: random.choice(x))\n",
    "        \n",
    "        samples = np.array(samples.reset_index().values, dtype = int)\n",
    "        \n",
    "        return samples[:,0], samples[:,1]\n",
    "        \n",
    "        "
   ]
  },
  {
   "cell_type": "code",
   "execution_count": 4,
   "metadata": {},
   "outputs": [],
   "source": [
    "recipes = RecipeInfo(data)"
   ]
  },
  {
   "cell_type": "markdown",
   "metadata": {},
   "source": [
    "Train recipe2vec\n",
    "===="
   ]
  },
  {
   "cell_type": "code",
   "execution_count": 5,
   "metadata": {},
   "outputs": [
    {
     "name": "stderr",
     "output_type": "stream",
     "text": [
      "Using TensorFlow backend.\n"
     ]
    },
    {
     "name": "stdout",
     "output_type": "stream",
     "text": [
      "Epoch 1/1\n",
      "17767/17767 [==============================] - 4s 251us/step - loss: 8.2891 - acc: 0.0203\n",
      "Epoch 1/1\n",
      "17767/17767 [==============================] - 1s 61us/step - loss: 8.1370 - acc: 0.0324\n",
      "Epoch 1/1\n",
      "17767/17767 [==============================] - 1s 61us/step - loss: 7.9603 - acc: 0.0358\n",
      "Epoch 1/1\n",
      "17767/17767 [==============================] - 1s 60us/step - loss: 7.6070 - acc: 0.0340\n",
      "Epoch 1/1\n",
      "17767/17767 [==============================] - 1s 60us/step - loss: 6.9909 - acc: 0.0342\n",
      "Epoch 1/1\n",
      "17767/17767 [==============================] - 1s 61us/step - loss: 6.3506 - acc: 0.0295\n",
      "Epoch 1/1\n",
      "17767/17767 [==============================] - 1s 60us/step - loss: 6.0122 - acc: 0.0317\n",
      "Epoch 1/1\n",
      "17767/17767 [==============================] - 1s 60us/step - loss: 5.9214 - acc: 0.0338\n",
      "Epoch 1/1\n",
      "17767/17767 [==============================] - 1s 60us/step - loss: 5.8907 - acc: 0.0405\n",
      "Epoch 1/1\n",
      "17767/17767 [==============================] - 1s 60us/step - loss: 5.8602 - acc: 0.0462\n",
      "Epoch 1/1\n",
      "17767/17767 [==============================] - 1s 60us/step - loss: 5.8227 - acc: 0.0463\n",
      "Epoch 1/1\n",
      "17767/17767 [==============================] - 1s 60us/step - loss: 5.7865 - acc: 0.0471\n",
      "Epoch 1/1\n",
      "17767/17767 [==============================] - 1s 61us/step - loss: 5.7569 - acc: 0.0527\n",
      "Epoch 1/1\n",
      "17767/17767 [==============================] - 1s 60us/step - loss: 5.7204 - acc: 0.0522\n",
      "Epoch 1/1\n",
      "17767/17767 [==============================] - 1s 61us/step - loss: 5.6622 - acc: 0.0562\n",
      "Epoch 1/1\n",
      "17767/17767 [==============================] - 1s 61us/step - loss: 5.6460 - acc: 0.0591\n",
      "Epoch 1/1\n",
      "17767/17767 [==============================] - 1s 60us/step - loss: 5.5887 - acc: 0.0605\n",
      "Epoch 1/1\n",
      "17767/17767 [==============================] - 1s 60us/step - loss: 5.5535 - acc: 0.0622\n",
      "Epoch 1/1\n",
      "17767/17767 [==============================] - 1s 61us/step - loss: 5.5318 - acc: 0.0682\n",
      "Epoch 1/1\n",
      "17767/17767 [==============================] - 1s 60us/step - loss: 5.5045 - acc: 0.0636\n",
      "Epoch 1/1\n",
      "17767/17767 [==============================] - 1s 61us/step - loss: 5.4755 - acc: 0.0674\n",
      "Epoch 1/1\n",
      "17767/17767 [==============================] - 1s 60us/step - loss: 5.4567 - acc: 0.0702\n",
      "Epoch 1/1\n",
      "17767/17767 [==============================] - 1s 60us/step - loss: 5.3988 - acc: 0.0710\n",
      "Epoch 1/1\n",
      "17767/17767 [==============================] - 1s 61us/step - loss: 5.3573 - acc: 0.0774\n",
      "Epoch 1/1\n",
      "17767/17767 [==============================] - 1s 61us/step - loss: 5.3143 - acc: 0.0767\n",
      "Epoch 1/1\n",
      "17767/17767 [==============================] - 1s 61us/step - loss: 5.3017 - acc: 0.0760\n",
      "Epoch 1/1\n",
      "17767/17767 [==============================] - 1s 60us/step - loss: 5.2543 - acc: 0.0767\n",
      "Epoch 1/1\n",
      "17767/17767 [==============================] - 1s 60us/step - loss: 5.2327 - acc: 0.0805\n",
      "Epoch 1/1\n",
      "17767/17767 [==============================] - 1s 60us/step - loss: 5.2112 - acc: 0.0792\n",
      "Epoch 1/1\n",
      "17767/17767 [==============================] - 1s 61us/step - loss: 5.1675 - acc: 0.0808\n",
      "Epoch 1/1\n",
      "17767/17767 [==============================] - 1s 61us/step - loss: 5.1342 - acc: 0.0833\n",
      "Epoch 1/1\n",
      "17767/17767 [==============================] - 1s 61us/step - loss: 5.1265 - acc: 0.0838\n",
      "Epoch 1/1\n",
      "17767/17767 [==============================] - 1s 61us/step - loss: 5.0665 - acc: 0.0883\n",
      "Epoch 1/1\n",
      "17767/17767 [==============================] - 1s 61us/step - loss: 5.0458 - acc: 0.0804\n",
      "Epoch 1/1\n",
      "17767/17767 [==============================] - 1s 61us/step - loss: 5.0019 - acc: 0.0885\n",
      "Epoch 1/1\n",
      "17767/17767 [==============================] - 1s 60us/step - loss: 4.9778 - acc: 0.0881\n",
      "Epoch 1/1\n",
      "17767/17767 [==============================] - 1s 61us/step - loss: 4.9443 - acc: 0.0899\n",
      "Epoch 1/1\n",
      "17767/17767 [==============================] - 1s 61us/step - loss: 4.9005 - acc: 0.0925\n",
      "Epoch 1/1\n",
      "17767/17767 [==============================] - 1s 61us/step - loss: 4.8900 - acc: 0.0870\n",
      "Epoch 1/1\n",
      "17767/17767 [==============================] - 1s 60us/step - loss: 4.8536 - acc: 0.0872\n",
      "Epoch 1/1\n",
      "17767/17767 [==============================] - 1s 61us/step - loss: 4.8403 - acc: 0.0885\n",
      "Epoch 1/1\n",
      "17767/17767 [==============================] - 1s 61us/step - loss: 4.8019 - acc: 0.0932\n",
      "Epoch 1/1\n",
      "17767/17767 [==============================] - 1s 60us/step - loss: 4.7974 - acc: 0.0884\n",
      "Epoch 1/1\n",
      "17767/17767 [==============================] - 1s 61us/step - loss: 4.7314 - acc: 0.0919\n",
      "Epoch 1/1\n",
      "17767/17767 [==============================] - 1s 61us/step - loss: 4.7070 - acc: 0.0901\n",
      "Epoch 1/1\n",
      "17767/17767 [==============================] - 1s 61us/step - loss: 4.7006 - acc: 0.0926\n",
      "Epoch 1/1\n",
      "17767/17767 [==============================] - 1s 60us/step - loss: 4.6469 - acc: 0.0958\n",
      "Epoch 1/1\n",
      "17767/17767 [==============================] - 1s 60us/step - loss: 4.6461 - acc: 0.0899\n",
      "Epoch 1/1\n",
      "17767/17767 [==============================] - 1s 61us/step - loss: 4.6195 - acc: 0.0879\n",
      "Epoch 1/1\n",
      "17767/17767 [==============================] - 1s 60us/step - loss: 4.6036 - acc: 0.0941\n",
      "Epoch 1/1\n",
      "17767/17767 [==============================] - 1s 61us/step - loss: 4.5770 - acc: 0.0918\n",
      "Epoch 1/1\n",
      "17767/17767 [==============================] - 1s 60us/step - loss: 4.5371 - acc: 0.0891\n",
      "Epoch 1/1\n",
      "17767/17767 [==============================] - 1s 61us/step - loss: 4.5396 - acc: 0.0908\n",
      "Epoch 1/1\n",
      "17767/17767 [==============================] - 1s 61us/step - loss: 4.4912 - acc: 0.0910\n",
      "Epoch 1/1\n",
      "17767/17767 [==============================] - 1s 60us/step - loss: 4.4764 - acc: 0.0939\n",
      "Epoch 1/1\n",
      "17767/17767 [==============================] - 1s 61us/step - loss: 4.4708 - acc: 0.0915\n",
      "Epoch 1/1\n",
      "17767/17767 [==============================] - 1s 60us/step - loss: 4.4372 - acc: 0.0922\n",
      "Epoch 1/1\n",
      "17767/17767 [==============================] - 1s 61us/step - loss: 4.4052 - acc: 0.0936\n",
      "Epoch 1/1\n",
      "17767/17767 [==============================] - 1s 61us/step - loss: 4.3926 - acc: 0.0922\n",
      "Epoch 1/1\n",
      "17767/17767 [==============================] - 1s 60us/step - loss: 4.3461 - acc: 0.0962\n",
      "Epoch 1/1\n",
      "17767/17767 [==============================] - 1s 60us/step - loss: 4.3702 - acc: 0.0954\n",
      "Epoch 1/1\n",
      "17767/17767 [==============================] - 1s 60us/step - loss: 4.3169 - acc: 0.0957\n",
      "Epoch 1/1\n",
      "17767/17767 [==============================] - 1s 60us/step - loss: 4.2968 - acc: 0.0891\n",
      "Epoch 1/1\n",
      "17767/17767 [==============================] - 1s 61us/step - loss: 4.3129 - acc: 0.0923\n",
      "Epoch 1/1\n",
      "17767/17767 [==============================] - 1s 60us/step - loss: 4.2625 - acc: 0.0916\n",
      "Epoch 1/1\n",
      "17767/17767 [==============================] - 1s 60us/step - loss: 4.2683 - acc: 0.0918\n",
      "Epoch 1/1\n",
      "17767/17767 [==============================] - 1s 60us/step - loss: 4.2520 - acc: 0.0950\n",
      "Epoch 1/1\n",
      "17767/17767 [==============================] - 1s 61us/step - loss: 4.2233 - acc: 0.0932\n",
      "Epoch 1/1\n",
      "17767/17767 [==============================] - 1s 61us/step - loss: 4.1933 - acc: 0.0932\n",
      "Epoch 1/1\n",
      "17767/17767 [==============================] - 1s 60us/step - loss: 4.2103 - acc: 0.0934\n",
      "Epoch 1/1\n",
      "17767/17767 [==============================] - 1s 60us/step - loss: 4.1805 - acc: 0.0899\n",
      "Epoch 1/1\n",
      "17767/17767 [==============================] - 1s 60us/step - loss: 4.1751 - acc: 0.0904\n",
      "Epoch 1/1\n",
      "17767/17767 [==============================] - 1s 60us/step - loss: 4.1487 - acc: 0.0937\n",
      "Epoch 1/1\n",
      "17767/17767 [==============================] - 1s 61us/step - loss: 4.1200 - acc: 0.0941\n",
      "Epoch 1/1\n",
      "17767/17767 [==============================] - 1s 60us/step - loss: 4.0961 - acc: 0.0929\n",
      "Epoch 1/1\n",
      "17767/17767 [==============================] - 1s 61us/step - loss: 4.0847 - acc: 0.0928\n",
      "Epoch 1/1\n",
      "17767/17767 [==============================] - 1s 60us/step - loss: 4.0929 - acc: 0.0960\n",
      "Epoch 1/1\n",
      "17767/17767 [==============================] - 1s 60us/step - loss: 4.0858 - acc: 0.0911\n",
      "Epoch 1/1\n",
      "17767/17767 [==============================] - 1s 61us/step - loss: 4.0418 - acc: 0.0969\n",
      "Epoch 1/1\n",
      "17767/17767 [==============================] - 1s 61us/step - loss: 4.0456 - acc: 0.0929\n",
      "Epoch 1/1\n",
      "17767/17767 [==============================] - 1s 60us/step - loss: 4.0227 - acc: 0.0952\n",
      "Epoch 1/1\n",
      "17767/17767 [==============================] - 1s 61us/step - loss: 3.9923 - acc: 0.0928\n",
      "Epoch 1/1\n",
      "17767/17767 [==============================] - 1s 61us/step - loss: 4.0177 - acc: 0.0930\n",
      "Epoch 1/1\n",
      "17767/17767 [==============================] - 1s 61us/step - loss: 4.0005 - acc: 0.0939\n",
      "Epoch 1/1\n",
      "17767/17767 [==============================] - 1s 61us/step - loss: 3.9831 - acc: 0.0939\n",
      "Epoch 1/1\n",
      "17767/17767 [==============================] - 1s 61us/step - loss: 3.9570 - acc: 0.0907\n",
      "Epoch 1/1\n",
      "17767/17767 [==============================] - 1s 61us/step - loss: 3.9536 - acc: 0.0921\n",
      "Epoch 1/1\n",
      "17767/17767 [==============================] - 1s 61us/step - loss: 3.9361 - acc: 0.0935\n",
      "Epoch 1/1\n",
      "17767/17767 [==============================] - 1s 61us/step - loss: 3.9383 - acc: 0.0934\n",
      "Epoch 1/1\n",
      "17767/17767 [==============================] - 1s 60us/step - loss: 3.9189 - acc: 0.0918\n",
      "Epoch 1/1\n",
      "17767/17767 [==============================] - 1s 60us/step - loss: 3.8980 - acc: 0.0970\n",
      "Epoch 1/1\n",
      "17767/17767 [==============================] - 1s 61us/step - loss: 3.9187 - acc: 0.0901\n",
      "Epoch 1/1\n",
      "17767/17767 [==============================] - 1s 60us/step - loss: 3.8913 - acc: 0.0924\n",
      "Epoch 1/1\n",
      "17767/17767 [==============================] - 1s 60us/step - loss: 3.8774 - acc: 0.0930\n",
      "Epoch 1/1\n",
      "17767/17767 [==============================] - 1s 60us/step - loss: 3.8700 - acc: 0.0939\n",
      "Epoch 1/1\n",
      "17767/17767 [==============================] - 1s 61us/step - loss: 3.8368 - acc: 0.0935\n",
      "Epoch 1/1\n",
      "17767/17767 [==============================] - 1s 61us/step - loss: 3.8323 - acc: 0.0922\n",
      "Epoch 1/1\n",
      "17767/17767 [==============================] - 1s 61us/step - loss: 3.8295 - acc: 0.0907\n",
      "Epoch 1/1\n",
      "17767/17767 [==============================] - 1s 60us/step - loss: 3.7984 - acc: 0.0955\n",
      "Epoch 1/1\n",
      "17767/17767 [==============================] - 1s 61us/step - loss: 3.7816 - acc: 0.0960\n"
     ]
    }
   ],
   "source": [
    "from keras.models import Sequential, Model\n",
    "from keras.layers import Input, Dense, Embedding, Flatten, Activation, concatenate\n",
    "from keras.utils import to_categorical\n",
    "\n",
    "\n",
    "vocabulary = len(recipes.vocabulary)\n",
    "\n",
    "vector_dim = 100\n",
    "\n",
    "\n",
    "num_recipes = len(recipes.ingredients)\n",
    "\n",
    "\n",
    "xrecipe_input = Input(shape=(1,))\n",
    "xrecipe = Embedding(num_recipes, vector_dim, input_length=1, name='recipes')(xrecipe_input)\n",
    "x = Flatten()(xrecipe)\n",
    "\n",
    "\n",
    "x = Dense(vocabulary, activation='softmax')(x)\n",
    "\n",
    "model = Model(inputs=xrecipe_input, outputs=x)\n",
    "\n",
    "model.compile(optimizer='adam',loss='categorical_crossentropy', metrics=['accuracy'])\n",
    "\n",
    "epoch_num=1\n",
    "\n",
    "batchsize =128\n",
    "\n",
    "for i in range(100):\n",
    "\n",
    "    input_recipe, output_ingredient = recipes.get_samples()\n",
    "    \n",
    "    output_ingredient = to_categorical(output_ingredient, vocabulary)\n",
    "    \n",
    "    model.fit(input_recipe, output_ingredient, epochs=epoch_num, batch_size=batchsize)\n",
    "    \n"
   ]
  },
  {
   "cell_type": "markdown",
   "metadata": {},
   "source": [
    "Get recipe2vec\n",
    "======="
   ]
  },
  {
   "cell_type": "code",
   "execution_count": 6,
   "metadata": {},
   "outputs": [],
   "source": [
    "w = model.layers[1].get_weights()[0]"
   ]
  },
  {
   "cell_type": "code",
   "execution_count": 7,
   "metadata": {},
   "outputs": [
    {
     "data": {
      "text/plain": [
       "array([[-0.01149134, -0.34488228,  0.3607328 , -0.47375178, -0.07815014,\n",
       "         0.04152936,  0.0024725 , -0.01838634, -0.23506631, -0.49001384,\n",
       "        -0.1469217 , -0.07052254, -0.2728073 ,  0.16230299,  0.02332043,\n",
       "         0.13378231, -0.41966128, -0.01127326, -0.31054604, -0.187339  ,\n",
       "        -0.21311863, -0.06535441,  0.16378103,  0.12450656, -0.44452214,\n",
       "         0.23801893,  0.10282075,  0.03085463, -0.05109084, -0.1666557 ,\n",
       "         0.1692969 ,  0.01470826,  0.07358979, -0.2777261 , -0.01558435,\n",
       "        -0.25185603,  0.2673106 , -0.00274724, -0.09374077, -0.25507525,\n",
       "         0.20220809, -0.35605183, -0.09485834,  0.0339432 , -0.02907767,\n",
       "         0.1594381 ,  0.15831898, -0.07197108, -0.10204753,  0.06906427,\n",
       "        -0.23589833, -0.19205865,  0.02974932,  0.03229986, -0.07700022,\n",
       "        -0.2329895 , -0.11151381,  0.06738779,  0.20036733, -0.25502965,\n",
       "         0.36129823, -0.3490066 , -0.08100104,  0.05960202, -0.23302889,\n",
       "         0.267132  ,  0.02369494,  0.50340587,  0.31879213, -0.1140568 ,\n",
       "        -0.15052572, -0.5655131 ,  0.08561001,  0.20201972,  0.10358605,\n",
       "        -0.09890179, -0.25334546,  0.22170062, -0.15458354,  0.27663568,\n",
       "        -0.17110704, -0.00545473, -0.2639593 ,  0.10906656, -0.04237482,\n",
       "         0.2729293 ,  0.13271914,  0.17946735,  0.15329896,  0.15949489,\n",
       "        -0.11209062,  0.02116231, -0.16821243,  0.23478985, -0.05561344,\n",
       "        -0.02125902, -0.47368482,  0.0584555 ,  0.20584692, -0.48570085]],\n",
       "      dtype=float32)"
      ]
     },
     "execution_count": 7,
     "metadata": {},
     "output_type": "execute_result"
    }
   ],
   "source": [
    "w[:1]"
   ]
  },
  {
   "cell_type": "code",
   "execution_count": 8,
   "metadata": {},
   "outputs": [],
   "source": [
    "data['vector'] = list(w)"
   ]
  },
  {
   "cell_type": "code",
   "execution_count": 9,
   "metadata": {},
   "outputs": [
    {
     "data": {
      "text/html": [
       "<div>\n",
       "<style scoped>\n",
       "    .dataframe tbody tr th:only-of-type {\n",
       "        vertical-align: middle;\n",
       "    }\n",
       "\n",
       "    .dataframe tbody tr th {\n",
       "        vertical-align: top;\n",
       "    }\n",
       "\n",
       "    .dataframe thead th {\n",
       "        text-align: right;\n",
       "    }\n",
       "</style>\n",
       "<table border=\"1\" class=\"dataframe\">\n",
       "  <thead>\n",
       "    <tr style=\"text-align: right;\">\n",
       "      <th></th>\n",
       "      <th>recipe_id</th>\n",
       "      <th>ingredients</th>\n",
       "      <th>vector</th>\n",
       "    </tr>\n",
       "  </thead>\n",
       "  <tbody>\n",
       "    <tr>\n",
       "      <th>0</th>\n",
       "      <td>220000</td>\n",
       "      <td>angel food cake mix instant coffee coffee liqu...</td>\n",
       "      <td>[-0.011491336, -0.34488228, 0.3607328, -0.4737...</td>\n",
       "    </tr>\n",
       "    <tr>\n",
       "      <th>1</th>\n",
       "      <td>220001</td>\n",
       "      <td>artichokes roma plum tomatoes round tomatoes t...</td>\n",
       "      <td>[-0.36830738, -0.0041211634, 0.04224619, -0.10...</td>\n",
       "    </tr>\n",
       "    <tr>\n",
       "      <th>2</th>\n",
       "      <td>220002</td>\n",
       "      <td>cabbage salt ground beef ground pork white ric...</td>\n",
       "      <td>[-0.14555676, -0.5396178, -0.009736371, -0.263...</td>\n",
       "    </tr>\n",
       "    <tr>\n",
       "      <th>3</th>\n",
       "      <td>220003</td>\n",
       "      <td>green bell peppers seeds ground beef white ric...</td>\n",
       "      <td>[-0.1709963, -0.40470457, -0.31730914, -0.0535...</td>\n",
       "    </tr>\n",
       "    <tr>\n",
       "      <th>4</th>\n",
       "      <td>220004</td>\n",
       "      <td>chicken parsnips carrots celery onion dill par...</td>\n",
       "      <td>[-0.07548174, -0.19428793, 0.25274968, -0.0546...</td>\n",
       "    </tr>\n",
       "  </tbody>\n",
       "</table>\n",
       "</div>"
      ],
      "text/plain": [
       "   recipe_id                                        ingredients  \\\n",
       "0     220000  angel food cake mix instant coffee coffee liqu...   \n",
       "1     220001  artichokes roma plum tomatoes round tomatoes t...   \n",
       "2     220002  cabbage salt ground beef ground pork white ric...   \n",
       "3     220003  green bell peppers seeds ground beef white ric...   \n",
       "4     220004  chicken parsnips carrots celery onion dill par...   \n",
       "\n",
       "                                              vector  \n",
       "0  [-0.011491336, -0.34488228, 0.3607328, -0.4737...  \n",
       "1  [-0.36830738, -0.0041211634, 0.04224619, -0.10...  \n",
       "2  [-0.14555676, -0.5396178, -0.009736371, -0.263...  \n",
       "3  [-0.1709963, -0.40470457, -0.31730914, -0.0535...  \n",
       "4  [-0.07548174, -0.19428793, 0.25274968, -0.0546...  "
      ]
     },
     "execution_count": 9,
     "metadata": {},
     "output_type": "execute_result"
    }
   ],
   "source": [
    "data.head()"
   ]
  },
  {
   "cell_type": "code",
   "execution_count": 78,
   "metadata": {},
   "outputs": [],
   "source": [
    "data.to_csv('recipeid_ingredients_vector.csv')"
   ]
  },
  {
   "cell_type": "markdown",
   "metadata": {},
   "source": [
    "Find nearest neighbour\n",
    "========"
   ]
  },
  {
   "cell_type": "code",
   "execution_count": 69,
   "metadata": {},
   "outputs": [],
   "source": [
    "class RecipeEmbedding:\n",
    "    \n",
    "    def __init__(self, data):\n",
    "        \n",
    "        self.embedding_matrix = np.array([v for v in data['vector'].values])\n",
    "        self.ingredients = data['ingredients'].values\n",
    "        self.recipe_ids = np.array(data['recipe_id'])\n",
    "        self.recipeid_to_index = {}\n",
    "        \n",
    "        for i, r in enumerate(self.recipe_ids):\n",
    "            \n",
    "            self.recipeid_to_index[r] = i\n",
    "    \n",
    "    def get_vector(self, w):\n",
    "        \"\"\"\n",
    "        w: recipe id\n",
    "        \n",
    "        \"\"\"\n",
    "        w = self.recipeid_to_index[w]\n",
    "        w = self.embedding_matrix[w]\n",
    "        return w\n",
    "    \n",
    "    def get_recipe_ids(self, index):\n",
    "\n",
    "        if isinstance(index, int):\n",
    "            return self.recipe_ids[index]\n",
    "        else:\n",
    "            recipes = [self.recipe_ids[i] for i in index]\n",
    "            return recipes\n",
    "\n",
    "    def distance(self, v0, v1):\n",
    "        v0 = self.get_vector(v0)\n",
    "        v1 = self.get_vector(v1)\n",
    "        return np.abs(v0 - v1)\n",
    "    \n",
    "    def find_nearest_recipes(self, v, k):\n",
    "        \n",
    "        v = self.get_vector(v)\n",
    "        distances = np.linalg.norm(self.embedding_matrix - v, axis=1)\n",
    "        return self.get_recipe_ids(np.argsort(distances)[:k])\n"
   ]
  },
  {
   "cell_type": "code",
   "execution_count": 70,
   "metadata": {},
   "outputs": [],
   "source": [
    "recipeem = RecipeEmbedding(data)"
   ]
  },
  {
   "cell_type": "markdown",
   "metadata": {},
   "source": []
  },
  {
   "cell_type": "code",
   "execution_count": 72,
   "metadata": {},
   "outputs": [
    {
     "name": "stderr",
     "output_type": "stream",
     "text": [
      "/home/ubuntu/anaconda3/lib/python3.6/site-packages/numpy/linalg/linalg.py:2287: RuntimeWarning: invalid value encountered in sqrt\n",
      "  return sqrt(add.reduce(s, axis=axis, keepdims=keepdims))\n"
     ]
    },
    {
     "data": {
      "text/plain": [
       "[220000, 257775, 257773, 234004, 222036]"
      ]
     },
     "execution_count": 72,
     "metadata": {},
     "output_type": "execute_result"
    }
   ],
   "source": [
    "recipeem.find_nearest_recipes(220000, 5)"
   ]
  },
  {
   "cell_type": "code",
   "execution_count": 75,
   "metadata": {},
   "outputs": [
    {
     "data": {
      "text/plain": [
       "'chocolate sandwich cookies with mint cream filling cream cheese confectioners sugar butter vanilla extract butter nut flavor milk instant chocolate pudding mix instant butterscotch pudding mix whipped topping gummy worms'"
      ]
     },
     "execution_count": 75,
     "metadata": {},
     "output_type": "execute_result"
    }
   ],
   "source": [
    "recipeem.ingredients[recipeem.recipeid_to_index[257773]]"
   ]
  },
  {
   "cell_type": "code",
   "execution_count": 74,
   "metadata": {},
   "outputs": [
    {
     "data": {
      "text/plain": [
       "'angel food cake mix instant coffee coffee liqueur cream cheese heavy cream butter instant french vanilla pudding mix cream cheese heavy cream confectioners sugar vanilla extract'"
      ]
     },
     "execution_count": 74,
     "metadata": {},
     "output_type": "execute_result"
    }
   ],
   "source": [
    "recipeem.ingredients[recipeem.recipeid_to_index[220000]]"
   ]
  },
  {
   "cell_type": "code",
   "execution_count": 76,
   "metadata": {},
   "outputs": [
    {
     "data": {
      "text/plain": [
       "'vanilla wafer cookies cream cheese confectioners sugar butter vanilla extract milk instant vanilla pudding mix whipped topping'"
      ]
     },
     "execution_count": 76,
     "metadata": {},
     "output_type": "execute_result"
    }
   ],
   "source": [
    "recipeem.ingredients[recipeem.recipeid_to_index[257775]]"
   ]
  },
  {
   "cell_type": "code",
   "execution_count": null,
   "metadata": {},
   "outputs": [],
   "source": []
  }
 ],
 "metadata": {
  "kernelspec": {
   "display_name": "Python 3",
   "language": "python",
   "name": "python3"
  },
  "language_info": {
   "codemirror_mode": {
    "name": "ipython",
    "version": 3
   },
   "file_extension": ".py",
   "mimetype": "text/x-python",
   "name": "python",
   "nbconvert_exporter": "python",
   "pygments_lexer": "ipython3",
   "version": "3.6.6"
  }
 },
 "nbformat": 4,
 "nbformat_minor": 2
}
