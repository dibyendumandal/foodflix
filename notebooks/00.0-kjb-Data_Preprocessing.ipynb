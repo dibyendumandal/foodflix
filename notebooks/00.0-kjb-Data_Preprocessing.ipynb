{
 "cells": [
  {
   "cell_type": "markdown",
   "metadata": {},
   "source": [
    "# Data Preprocessing\n",
    "## Overview\n",
    "1. Read recipe data that was scraped from some recipe website\n",
    "2. Combine different scraped datasets into a single file to be read in by the database\n",
    "3. Clean ingredient data by extracting out only the ingredients to be passed to TF-IDF, etc."
   ]
  },
  {
   "cell_type": "code",
   "execution_count": 1,
   "metadata": {},
   "outputs": [],
   "source": [
    "import pandas as pd\n",
    "import numpy as np\n",
    "\n",
    "import os\n",
    "import re\n",
    "import glob"
   ]
  },
  {
   "cell_type": "markdown",
   "metadata": {},
   "source": [
    "## 1. Aggregate scraped data"
   ]
  },
  {
   "cell_type": "markdown",
   "metadata": {},
   "source": [
    "### Load in data"
   ]
  },
  {
   "cell_type": "markdown",
   "metadata": {},
   "source": [
    "Point to the directory where the recipe CSVs are stored"
   ]
  },
  {
   "cell_type": "code",
   "execution_count": 2,
   "metadata": {},
   "outputs": [],
   "source": [
    "DATADIR = '../data/'\n",
    "recipe_filenames = glob.glob(DATADIR + 'recipe_info_dataset*')"
   ]
  },
  {
   "cell_type": "code",
   "execution_count": 3,
   "metadata": {},
   "outputs": [
    {
     "data": {
      "text/plain": [
       "['../data/recipe_info_dataset6.csv',\n",
       " '../data/recipe_info_dataset5.csv',\n",
       " '../data/recipe_info_dataset4.csv',\n",
       " '../data/recipe_info_dataset3.csv',\n",
       " '../data/recipe_info_dataset2.csv']"
      ]
     },
     "execution_count": 3,
     "metadata": {},
     "output_type": "execute_result"
    }
   ],
   "source": [
    "recipe_filenames"
   ]
  },
  {
   "cell_type": "code",
   "execution_count": 4,
   "metadata": {},
   "outputs": [],
   "source": [
    "for idx, filename in enumerate(recipe_filenames):\n",
    "    \n",
    "    temp_df = pd.read_csv(filename, header=0)\n",
    "    \n",
    "    if idx == 0:\n",
    "        df = temp_df\n",
    "        \n",
    "    else:\n",
    "        df = df.append(temp_df, ignore_index=True)"
   ]
  },
  {
   "cell_type": "code",
   "execution_count": 5,
   "metadata": {},
   "outputs": [
    {
     "data": {
      "text/plain": [
       "(17777, 8)"
      ]
     },
     "execution_count": 5,
     "metadata": {},
     "output_type": "execute_result"
    }
   ],
   "source": [
    "df.shape"
   ]
  },
  {
   "cell_type": "markdown",
   "metadata": {},
   "source": [
    "### Sample the data\n",
    "- We don't need this much data to demonstrate, so let's take a sample"
   ]
  },
  {
   "cell_type": "code",
   "execution_count": 6,
   "metadata": {},
   "outputs": [],
   "source": [
    "df = df.sample(n=1000, random_state=41234)"
   ]
  },
  {
   "cell_type": "markdown",
   "metadata": {},
   "source": [
    "### Convert calories and review counts into numbers"
   ]
  },
  {
   "cell_type": "code",
   "execution_count": 7,
   "metadata": {
    "scrolled": true
   },
   "outputs": [],
   "source": [
    "df['calorie_count'] = pd.to_numeric( df['calorie_count'].str.replace(\"cals\",\"\"), errors='coerce')"
   ]
  },
  {
   "cell_type": "code",
   "execution_count": 8,
   "metadata": {},
   "outputs": [],
   "source": [
    "df['review_count'] = pd.to_numeric( df['review_count'].str.replace(\"reviews\",\"\"), errors='coerce')"
   ]
  },
  {
   "cell_type": "markdown",
   "metadata": {},
   "source": [
    "### Remove recipes with no calorie count"
   ]
  },
  {
   "cell_type": "code",
   "execution_count": 9,
   "metadata": {},
   "outputs": [],
   "source": [
    "df.dropna(subset=['calorie_count'], inplace=True)"
   ]
  },
  {
   "cell_type": "markdown",
   "metadata": {},
   "source": [
    "Take a look at what came out:"
   ]
  },
  {
   "cell_type": "code",
   "execution_count": 10,
   "metadata": {},
   "outputs": [
    {
     "data": {
      "text/html": [
       "<div>\n",
       "<style scoped>\n",
       "    .dataframe tbody tr th:only-of-type {\n",
       "        vertical-align: middle;\n",
       "    }\n",
       "\n",
       "    .dataframe tbody tr th {\n",
       "        vertical-align: top;\n",
       "    }\n",
       "\n",
       "    .dataframe thead th {\n",
       "        text-align: right;\n",
       "    }\n",
       "</style>\n",
       "<table border=\"1\" class=\"dataframe\">\n",
       "  <thead>\n",
       "    <tr style=\"text-align: right;\">\n",
       "      <th></th>\n",
       "      <th>recipe_id</th>\n",
       "      <th>recipe_name</th>\n",
       "      <th>recipe_url</th>\n",
       "      <th>ingredients</th>\n",
       "      <th>cook_time</th>\n",
       "      <th>calorie_count</th>\n",
       "      <th>review_count</th>\n",
       "      <th>overall_rating</th>\n",
       "    </tr>\n",
       "  </thead>\n",
       "  <tbody>\n",
       "    <tr>\n",
       "      <th>14932</th>\n",
       "      <td>257594</td>\n",
       "      <td>sloppy-joes-from-ball-park-buns</td>\n",
       "      <td>https://www.allrecipes.com/recipe/257594/slopp...</td>\n",
       "      <td>['4 Ball Park® Tailgaters Gourmet Buns', '1 po...</td>\n",
       "      <td>50 m</td>\n",
       "      <td>578.0</td>\n",
       "      <td>7</td>\n",
       "      <td>4.285714</td>\n",
       "    </tr>\n",
       "    <tr>\n",
       "      <th>15237</th>\n",
       "      <td>257968</td>\n",
       "      <td>chilaquiles</td>\n",
       "      <td>https://www.allrecipes.com/recipe/257968/chila...</td>\n",
       "      <td>['2 tomatoes, chopped', '6 dried chile de arbo...</td>\n",
       "      <td>33 m</td>\n",
       "      <td>329.0</td>\n",
       "      <td>3</td>\n",
       "      <td>3.750000</td>\n",
       "    </tr>\n",
       "    <tr>\n",
       "      <th>10018</th>\n",
       "      <td>235479</td>\n",
       "      <td>perfectly-roasted-vegetable</td>\n",
       "      <td>https://www.allrecipes.com/recipe/235479/perfe...</td>\n",
       "      <td>['2 cups Brussels sprouts, trimmed', '1 cup la...</td>\n",
       "      <td>1 h</td>\n",
       "      <td>105.0</td>\n",
       "      <td>17</td>\n",
       "      <td>4.555555</td>\n",
       "    </tr>\n",
       "    <tr>\n",
       "      <th>14611</th>\n",
       "      <td>257248</td>\n",
       "      <td>jeffreys-eggs-in-a-basket</td>\n",
       "      <td>https://www.allrecipes.com/recipe/257248/jeffr...</td>\n",
       "      <td>['6 slices bread', '1/4 cup butter, at room te...</td>\n",
       "      <td>13 m</td>\n",
       "      <td>232.0</td>\n",
       "      <td>1</td>\n",
       "      <td>5.000000</td>\n",
       "    </tr>\n",
       "    <tr>\n",
       "      <th>5157</th>\n",
       "      <td>230310</td>\n",
       "      <td>coyote-dip</td>\n",
       "      <td>https://www.allrecipes.com/recipe/230310/coyot...</td>\n",
       "      <td>['1 (8 ounce) package reduced-fat cream cheese...</td>\n",
       "      <td>2 h 15 m</td>\n",
       "      <td>164.0</td>\n",
       "      <td>9</td>\n",
       "      <td>4.727273</td>\n",
       "    </tr>\n",
       "  </tbody>\n",
       "</table>\n",
       "</div>"
      ],
      "text/plain": [
       "       recipe_id                      recipe_name  \\\n",
       "14932     257594  sloppy-joes-from-ball-park-buns   \n",
       "15237     257968                      chilaquiles   \n",
       "10018     235479      perfectly-roasted-vegetable   \n",
       "14611     257248        jeffreys-eggs-in-a-basket   \n",
       "5157      230310                       coyote-dip   \n",
       "\n",
       "                                              recipe_url  \\\n",
       "14932  https://www.allrecipes.com/recipe/257594/slopp...   \n",
       "15237  https://www.allrecipes.com/recipe/257968/chila...   \n",
       "10018  https://www.allrecipes.com/recipe/235479/perfe...   \n",
       "14611  https://www.allrecipes.com/recipe/257248/jeffr...   \n",
       "5157   https://www.allrecipes.com/recipe/230310/coyot...   \n",
       "\n",
       "                                             ingredients cook_time  \\\n",
       "14932  ['4 Ball Park® Tailgaters Gourmet Buns', '1 po...      50 m   \n",
       "15237  ['2 tomatoes, chopped', '6 dried chile de arbo...      33 m   \n",
       "10018  ['2 cups Brussels sprouts, trimmed', '1 cup la...       1 h   \n",
       "14611  ['6 slices bread', '1/4 cup butter, at room te...      13 m   \n",
       "5157   ['1 (8 ounce) package reduced-fat cream cheese...  2 h 15 m   \n",
       "\n",
       "       calorie_count  review_count  overall_rating  \n",
       "14932          578.0             7        4.285714  \n",
       "15237          329.0             3        3.750000  \n",
       "10018          105.0            17        4.555555  \n",
       "14611          232.0             1        5.000000  \n",
       "5157           164.0             9        4.727273  "
      ]
     },
     "execution_count": 10,
     "metadata": {},
     "output_type": "execute_result"
    }
   ],
   "source": [
    "df.head()"
   ]
  },
  {
   "cell_type": "markdown",
   "metadata": {},
   "source": [
    "### Save this merged table to be read into the database"
   ]
  },
  {
   "cell_type": "code",
   "execution_count": 11,
   "metadata": {},
   "outputs": [],
   "source": [
    "df.to_csv('../FoodFlix/static/data/recipes_all_data.csv')"
   ]
  },
  {
   "cell_type": "markdown",
   "metadata": {},
   "source": [
    "## 2. Prepare data to be used in recommendation system\n",
    "- Now we only need the ingredients and the recipe id to use as a key"
   ]
  },
  {
   "cell_type": "code",
   "execution_count": 12,
   "metadata": {},
   "outputs": [],
   "source": [
    "df = df[['recipe_id', 'ingredients', 'recipe_name', 'calorie_count', 'cook_time', 'recipe_url', 'review_count', 'overall_rating']]\n",
    "df['ingredients_raw'] = df['ingredients'] #We want the 'uncleaned' ingredients for display\n",
    "df.set_index('recipe_id', inplace=True)"
   ]
  },
  {
   "cell_type": "markdown",
   "metadata": {},
   "source": [
    "### Remove all non-alphabetical characters"
   ]
  },
  {
   "cell_type": "code",
   "execution_count": 13,
   "metadata": {},
   "outputs": [],
   "source": [
    "def clean_ingredients(ingredient):\n",
    "    return re.sub(\"[^a-zA-Z]\", \" \", ingredient).strip().lower()"
   ]
  },
  {
   "cell_type": "code",
   "execution_count": 14,
   "metadata": {},
   "outputs": [],
   "source": [
    "df['ingredients'] = df['ingredients'].apply(clean_ingredients)"
   ]
  },
  {
   "cell_type": "markdown",
   "metadata": {},
   "source": [
    "### Remove stop words"
   ]
  },
  {
   "cell_type": "code",
   "execution_count": 15,
   "metadata": {},
   "outputs": [],
   "source": [
    "with open('../data/stopwords.txt', 'r') as infile:\n",
    "    stop_words = infile.read().split('\\n')"
   ]
  },
  {
   "cell_type": "code",
   "execution_count": 16,
   "metadata": {},
   "outputs": [],
   "source": [
    "def remove_stop_words(ingredients):\n",
    "    clean = [k for k in ingredients.split() if k not in stop_words]\n",
    "    clean = ' '.join(clean).strip()\n",
    "    return clean"
   ]
  },
  {
   "cell_type": "code",
   "execution_count": 17,
   "metadata": {},
   "outputs": [],
   "source": [
    "df['ingredients'] = df['ingredients'].apply(remove_stop_words)"
   ]
  },
  {
   "cell_type": "markdown",
   "metadata": {},
   "source": [
    "### Check if the recipe names are unique:"
   ]
  },
  {
   "cell_type": "code",
   "execution_count": 18,
   "metadata": {
    "scrolled": true
   },
   "outputs": [
    {
     "data": {
      "text/plain": [
       "994"
      ]
     },
     "execution_count": 18,
     "metadata": {},
     "output_type": "execute_result"
    }
   ],
   "source": [
    "len(df)"
   ]
  },
  {
   "cell_type": "code",
   "execution_count": 19,
   "metadata": {},
   "outputs": [
    {
     "data": {
      "text/plain": [
       "994"
      ]
     },
     "execution_count": 19,
     "metadata": {},
     "output_type": "execute_result"
    }
   ],
   "source": [
    "len(df['recipe_name'].unique())"
   ]
  },
  {
   "cell_type": "markdown",
   "metadata": {},
   "source": [
    "Let's drop the duplicates (if any):"
   ]
  },
  {
   "cell_type": "code",
   "execution_count": 20,
   "metadata": {},
   "outputs": [],
   "source": [
    "df = df[~df['recipe_name'].duplicated()]"
   ]
  },
  {
   "cell_type": "code",
   "execution_count": 21,
   "metadata": {},
   "outputs": [
    {
     "data": {
      "text/plain": [
       "(994, 8)"
      ]
     },
     "execution_count": 21,
     "metadata": {},
     "output_type": "execute_result"
    }
   ],
   "source": [
    "df.shape"
   ]
  },
  {
   "cell_type": "markdown",
   "metadata": {},
   "source": [
    "### Remove empty ingredient lists"
   ]
  },
  {
   "cell_type": "code",
   "execution_count": 22,
   "metadata": {},
   "outputs": [],
   "source": [
    "df = df[df['ingredients'].apply(lambda x: bool(x))]"
   ]
  },
  {
   "cell_type": "code",
   "execution_count": 23,
   "metadata": {},
   "outputs": [
    {
     "data": {
      "text/plain": [
       "(994, 8)"
      ]
     },
     "execution_count": 23,
     "metadata": {},
     "output_type": "execute_result"
    }
   ],
   "source": [
    "df.shape"
   ]
  },
  {
   "cell_type": "code",
   "execution_count": 24,
   "metadata": {},
   "outputs": [
    {
     "data": {
      "text/html": [
       "<div>\n",
       "<style scoped>\n",
       "    .dataframe tbody tr th:only-of-type {\n",
       "        vertical-align: middle;\n",
       "    }\n",
       "\n",
       "    .dataframe tbody tr th {\n",
       "        vertical-align: top;\n",
       "    }\n",
       "\n",
       "    .dataframe thead th {\n",
       "        text-align: right;\n",
       "    }\n",
       "</style>\n",
       "<table border=\"1\" class=\"dataframe\">\n",
       "  <thead>\n",
       "    <tr style=\"text-align: right;\">\n",
       "      <th></th>\n",
       "      <th>ingredients</th>\n",
       "      <th>recipe_name</th>\n",
       "      <th>calorie_count</th>\n",
       "      <th>cook_time</th>\n",
       "      <th>recipe_url</th>\n",
       "      <th>review_count</th>\n",
       "      <th>overall_rating</th>\n",
       "      <th>ingredients_raw</th>\n",
       "    </tr>\n",
       "    <tr>\n",
       "      <th>recipe_id</th>\n",
       "      <th></th>\n",
       "      <th></th>\n",
       "      <th></th>\n",
       "      <th></th>\n",
       "      <th></th>\n",
       "      <th></th>\n",
       "      <th></th>\n",
       "      <th></th>\n",
       "    </tr>\n",
       "  </thead>\n",
       "  <tbody>\n",
       "    <tr>\n",
       "      <th>257594</th>\n",
       "      <td>park tailgaters gourmet buns ground beef yello...</td>\n",
       "      <td>sloppy-joes-from-ball-park-buns</td>\n",
       "      <td>578.0</td>\n",
       "      <td>50 m</td>\n",
       "      <td>https://www.allrecipes.com/recipe/257594/slopp...</td>\n",
       "      <td>7</td>\n",
       "      <td>4.285714</td>\n",
       "      <td>['4 Ball Park® Tailgaters Gourmet Buns', '1 po...</td>\n",
       "    </tr>\n",
       "    <tr>\n",
       "      <th>257968</th>\n",
       "      <td>tomatoes dried chile de arbol peppers onion ga...</td>\n",
       "      <td>chilaquiles</td>\n",
       "      <td>329.0</td>\n",
       "      <td>33 m</td>\n",
       "      <td>https://www.allrecipes.com/recipe/257968/chila...</td>\n",
       "      <td>3</td>\n",
       "      <td>3.750000</td>\n",
       "      <td>['2 tomatoes, chopped', '6 dried chile de arbo...</td>\n",
       "    </tr>\n",
       "    <tr>\n",
       "      <th>235479</th>\n",
       "      <td>brussels sprouts yukon gold potato chunks rain...</td>\n",
       "      <td>perfectly-roasted-vegetable</td>\n",
       "      <td>105.0</td>\n",
       "      <td>1 h</td>\n",
       "      <td>https://www.allrecipes.com/recipe/235479/perfe...</td>\n",
       "      <td>17</td>\n",
       "      <td>4.555555</td>\n",
       "      <td>['2 cups Brussels sprouts, trimmed', '1 cup la...</td>\n",
       "    </tr>\n",
       "    <tr>\n",
       "      <th>257248</th>\n",
       "      <td>bread butter eggs</td>\n",
       "      <td>jeffreys-eggs-in-a-basket</td>\n",
       "      <td>232.0</td>\n",
       "      <td>13 m</td>\n",
       "      <td>https://www.allrecipes.com/recipe/257248/jeffr...</td>\n",
       "      <td>1</td>\n",
       "      <td>5.000000</td>\n",
       "      <td>['6 slices bread', '1/4 cup butter, at room te...</td>\n",
       "    </tr>\n",
       "    <tr>\n",
       "      <th>230310</th>\n",
       "      <td>reduced fat cream cheese reduced fat mayonnais...</td>\n",
       "      <td>coyote-dip</td>\n",
       "      <td>164.0</td>\n",
       "      <td>2 h 15 m</td>\n",
       "      <td>https://www.allrecipes.com/recipe/230310/coyot...</td>\n",
       "      <td>9</td>\n",
       "      <td>4.727273</td>\n",
       "      <td>['1 (8 ounce) package reduced-fat cream cheese...</td>\n",
       "    </tr>\n",
       "  </tbody>\n",
       "</table>\n",
       "</div>"
      ],
      "text/plain": [
       "                                                 ingredients  \\\n",
       "recipe_id                                                      \n",
       "257594     park tailgaters gourmet buns ground beef yello...   \n",
       "257968     tomatoes dried chile de arbol peppers onion ga...   \n",
       "235479     brussels sprouts yukon gold potato chunks rain...   \n",
       "257248                                     bread butter eggs   \n",
       "230310     reduced fat cream cheese reduced fat mayonnais...   \n",
       "\n",
       "                               recipe_name  calorie_count cook_time  \\\n",
       "recipe_id                                                             \n",
       "257594     sloppy-joes-from-ball-park-buns          578.0      50 m   \n",
       "257968                         chilaquiles          329.0      33 m   \n",
       "235479         perfectly-roasted-vegetable          105.0       1 h   \n",
       "257248           jeffreys-eggs-in-a-basket          232.0      13 m   \n",
       "230310                          coyote-dip          164.0  2 h 15 m   \n",
       "\n",
       "                                                  recipe_url  review_count  \\\n",
       "recipe_id                                                                    \n",
       "257594     https://www.allrecipes.com/recipe/257594/slopp...             7   \n",
       "257968     https://www.allrecipes.com/recipe/257968/chila...             3   \n",
       "235479     https://www.allrecipes.com/recipe/235479/perfe...            17   \n",
       "257248     https://www.allrecipes.com/recipe/257248/jeffr...             1   \n",
       "230310     https://www.allrecipes.com/recipe/230310/coyot...             9   \n",
       "\n",
       "           overall_rating                                    ingredients_raw  \n",
       "recipe_id                                                                     \n",
       "257594           4.285714  ['4 Ball Park® Tailgaters Gourmet Buns', '1 po...  \n",
       "257968           3.750000  ['2 tomatoes, chopped', '6 dried chile de arbo...  \n",
       "235479           4.555555  ['2 cups Brussels sprouts, trimmed', '1 cup la...  \n",
       "257248           5.000000  ['6 slices bread', '1/4 cup butter, at room te...  \n",
       "230310           4.727273  ['1 (8 ounce) package reduced-fat cream cheese...  "
      ]
     },
     "execution_count": 24,
     "metadata": {},
     "output_type": "execute_result"
    }
   ],
   "source": [
    "df.head()"
   ]
  },
  {
   "cell_type": "markdown",
   "metadata": {},
   "source": [
    "### Save the cleaned ingredients to file"
   ]
  },
  {
   "cell_type": "code",
   "execution_count": 25,
   "metadata": {},
   "outputs": [],
   "source": [
    "filename = '../FoodFlix/static/data/clean_ingredients.csv'\n",
    "df.to_csv(filename)\n",
    "#Check that file exists\n",
    "if not os.path.isfile(filename):\n",
    "    print('Failed to create ',filename)\n",
    "    raise"
   ]
  },
  {
   "cell_type": "code",
   "execution_count": 26,
   "metadata": {},
   "outputs": [],
   "source": []
  }
 ],
 "metadata": {
  "kernelspec": {
   "display_name": "Python 3",
   "language": "python",
   "name": "python3"
  },
  "language_info": {
   "codemirror_mode": {
    "name": "ipython",
    "version": 3
   },
   "file_extension": ".py",
   "mimetype": "text/x-python",
   "name": "python",
   "nbconvert_exporter": "python",
   "pygments_lexer": "ipython3",
   "version": "3.6.6"
  }
 },
 "nbformat": 4,
 "nbformat_minor": 2
}
