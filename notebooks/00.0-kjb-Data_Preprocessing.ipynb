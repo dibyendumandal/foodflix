{
 "cells": [
  {
   "cell_type": "markdown",
   "metadata": {},
   "source": [
    "# Data Preprocessing\n",
    "## Overview\n",
    "1. Read recipe data that was scraped from some recipe website\n",
    "2. Combine different scraped datasets into a single file to be read in by the database\n",
    "3. Clean ingredient data by extracting out only the ingredients to be passed to TF-IDF, etc."
   ]
  },
  {
   "cell_type": "code",
   "execution_count": 1,
   "metadata": {},
   "outputs": [],
   "source": [
    "import pandas as pd\n",
    "import numpy as np\n",
    "\n",
    "import os\n",
    "import re\n",
    "import glob"
   ]
  },
  {
   "cell_type": "markdown",
   "metadata": {},
   "source": [
    "## 1. Aggregate scraped data"
   ]
  },
  {
   "cell_type": "markdown",
   "metadata": {},
   "source": [
    "### Load in data"
   ]
  },
  {
   "cell_type": "markdown",
   "metadata": {},
   "source": [
    "Point to the directory where the recipe CSVs are stored"
   ]
  },
  {
   "cell_type": "code",
   "execution_count": 2,
   "metadata": {},
   "outputs": [],
   "source": [
    "DATADIR = '../data/'\n",
    "recipe_filenames = glob.glob(DATADIR + 'recipe_info_dataset*')"
   ]
  },
  {
   "cell_type": "code",
   "execution_count": 3,
   "metadata": {},
   "outputs": [
    {
     "data": {
      "text/plain": [
       "['../data/recipe_info_dataset2.csv',\n",
       " '../data/recipe_info_dataset3.csv',\n",
       " '../data/recipe_info_dataset4.csv',\n",
       " '../data/recipe_info_dataset5.csv',\n",
       " '../data/recipe_info_dataset6.csv']"
      ]
     },
     "execution_count": 3,
     "metadata": {},
     "output_type": "execute_result"
    }
   ],
   "source": [
    "recipe_filenames"
   ]
  },
  {
   "cell_type": "code",
   "execution_count": 4,
   "metadata": {},
   "outputs": [],
   "source": [
    "for idx, filename in enumerate(recipe_filenames):\n",
    "    \n",
    "    temp_df = pd.read_csv(filename, header=0)\n",
    "    \n",
    "    if idx == 0:\n",
    "        df = temp_df\n",
    "        \n",
    "    else:\n",
    "        df = df.append(temp_df, ignore_index=True)"
   ]
  },
  {
   "cell_type": "code",
   "execution_count": 5,
   "metadata": {},
   "outputs": [
    {
     "data": {
      "text/plain": [
       "(17777, 8)"
      ]
     },
     "execution_count": 5,
     "metadata": {},
     "output_type": "execute_result"
    }
   ],
   "source": [
    "df.shape"
   ]
  },
  {
   "cell_type": "markdown",
   "metadata": {},
   "source": [
    "### Sample the data\n",
    "- We don't need this much data to demonstrate, so let's take a sample"
   ]
  },
  {
   "cell_type": "code",
   "execution_count": 6,
   "metadata": {},
   "outputs": [],
   "source": [
    "df = df.sample(n=1000, random_state=41234)"
   ]
  },
  {
   "cell_type": "markdown",
   "metadata": {},
   "source": [
    "Take a look at what came out:"
   ]
  },
  {
   "cell_type": "code",
   "execution_count": 7,
   "metadata": {},
   "outputs": [
    {
     "data": {
      "text/html": [
       "<div>\n",
       "<style>\n",
       "    .dataframe thead tr:only-child th {\n",
       "        text-align: right;\n",
       "    }\n",
       "\n",
       "    .dataframe thead th {\n",
       "        text-align: left;\n",
       "    }\n",
       "\n",
       "    .dataframe tbody tr th {\n",
       "        vertical-align: top;\n",
       "    }\n",
       "</style>\n",
       "<table border=\"1\" class=\"dataframe\">\n",
       "  <thead>\n",
       "    <tr style=\"text-align: right;\">\n",
       "      <th></th>\n",
       "      <th>recipe_id</th>\n",
       "      <th>recipe_name</th>\n",
       "      <th>recipe_url</th>\n",
       "      <th>ingredients</th>\n",
       "      <th>cook_time</th>\n",
       "      <th>calorie_count</th>\n",
       "      <th>review_count</th>\n",
       "      <th>overall_rating</th>\n",
       "    </tr>\n",
       "  </thead>\n",
       "  <tbody>\n",
       "    <tr>\n",
       "      <th>14932</th>\n",
       "      <td>237052</td>\n",
       "      <td>homemade-coffee-creamer-chocolate-caramel</td>\n",
       "      <td>https://www.allrecipes.com/recipe/237052/homem...</td>\n",
       "      <td>['1 (14 ounce) can sweetened condensed milk', ...</td>\n",
       "      <td>10 m</td>\n",
       "      <td>243  cals</td>\n",
       "      <td>4 reviews</td>\n",
       "      <td>3.250000</td>\n",
       "    </tr>\n",
       "    <tr>\n",
       "      <th>15237</th>\n",
       "      <td>237363</td>\n",
       "      <td>double-chocolate-granola</td>\n",
       "      <td>https://www.allrecipes.com/recipe/237363/doubl...</td>\n",
       "      <td>['3 cups rolled oats', '1 cup chopped cashews'...</td>\n",
       "      <td>55 m</td>\n",
       "      <td>190  cals</td>\n",
       "      <td>1 reviews</td>\n",
       "      <td>5.000000</td>\n",
       "    </tr>\n",
       "    <tr>\n",
       "      <th>10018</th>\n",
       "      <td>231960</td>\n",
       "      <td>swedish-nutballs</td>\n",
       "      <td>https://www.allrecipes.com/recipe/231960/swedi...</td>\n",
       "      <td>['2 cups all-purpose flour', '1 cup butter, so...</td>\n",
       "      <td>55 m</td>\n",
       "      <td>297  cals</td>\n",
       "      <td>1 reviews</td>\n",
       "      <td>5.000000</td>\n",
       "    </tr>\n",
       "    <tr>\n",
       "      <th>14611</th>\n",
       "      <td>236729</td>\n",
       "      <td>mediterranean-bulgur-wheat</td>\n",
       "      <td>https://www.allrecipes.com/recipe/236729/medit...</td>\n",
       "      <td>['2 cups chicken broth', '1 cup bulgur', '1 ta...</td>\n",
       "      <td>30 m</td>\n",
       "      <td>213  cals</td>\n",
       "      <td>0 reviews</td>\n",
       "      <td>0.000000</td>\n",
       "    </tr>\n",
       "    <tr>\n",
       "      <th>5157</th>\n",
       "      <td>222411</td>\n",
       "      <td>sea-breeze-cocktail</td>\n",
       "      <td>https://www.allrecipes.com/recipe/222411/sea-b...</td>\n",
       "      <td>['1 1/2 fluid ounces vodka', '4 fluid ounces c...</td>\n",
       "      <td>5 m</td>\n",
       "      <td>196  cals</td>\n",
       "      <td>10 reviews</td>\n",
       "      <td>4.588235</td>\n",
       "    </tr>\n",
       "  </tbody>\n",
       "</table>\n",
       "</div>"
      ],
      "text/plain": [
       "       recipe_id                                recipe_name  \\\n",
       "14932     237052  homemade-coffee-creamer-chocolate-caramel   \n",
       "15237     237363                   double-chocolate-granola   \n",
       "10018     231960                           swedish-nutballs   \n",
       "14611     236729                 mediterranean-bulgur-wheat   \n",
       "5157      222411                        sea-breeze-cocktail   \n",
       "\n",
       "                                              recipe_url  \\\n",
       "14932  https://www.allrecipes.com/recipe/237052/homem...   \n",
       "15237  https://www.allrecipes.com/recipe/237363/doubl...   \n",
       "10018  https://www.allrecipes.com/recipe/231960/swedi...   \n",
       "14611  https://www.allrecipes.com/recipe/236729/medit...   \n",
       "5157   https://www.allrecipes.com/recipe/222411/sea-b...   \n",
       "\n",
       "                                             ingredients cook_time  \\\n",
       "14932  ['1 (14 ounce) can sweetened condensed milk', ...      10 m   \n",
       "15237  ['3 cups rolled oats', '1 cup chopped cashews'...      55 m   \n",
       "10018  ['2 cups all-purpose flour', '1 cup butter, so...      55 m   \n",
       "14611  ['2 cups chicken broth', '1 cup bulgur', '1 ta...      30 m   \n",
       "5157   ['1 1/2 fluid ounces vodka', '4 fluid ounces c...       5 m   \n",
       "\n",
       "      calorie_count review_count  overall_rating  \n",
       "14932     243  cals    4 reviews        3.250000  \n",
       "15237     190  cals    1 reviews        5.000000  \n",
       "10018     297  cals    1 reviews        5.000000  \n",
       "14611     213  cals    0 reviews        0.000000  \n",
       "5157      196  cals   10 reviews        4.588235  "
      ]
     },
     "execution_count": 7,
     "metadata": {},
     "output_type": "execute_result"
    }
   ],
   "source": [
    "df.head()"
   ]
  },
  {
   "cell_type": "markdown",
   "metadata": {},
   "source": [
    "### Save this merged table to be read into the database"
   ]
  },
  {
   "cell_type": "code",
   "execution_count": 8,
   "metadata": {},
   "outputs": [],
   "source": [
    "df.to_csv('../FoodFlix/static/data/recipes_all_data.csv')"
   ]
  },
  {
   "cell_type": "markdown",
   "metadata": {},
   "source": [
    "## 2. Prepare data to be used in recommendation system\n",
    "- Now we only need the ingredients and the recipe id to use as a key"
   ]
  },
  {
   "cell_type": "code",
   "execution_count": 9,
   "metadata": {},
   "outputs": [],
   "source": [
    "df = df[['recipe_id', 'ingredients', 'recipe_name', 'calorie_count', 'cook_time', 'recipe_url', 'review_count', 'overall_rating']]\n",
    "df.set_index('recipe_id', inplace=True)"
   ]
  },
  {
   "cell_type": "markdown",
   "metadata": {},
   "source": [
    "### Remove all non-alphabetical characters"
   ]
  },
  {
   "cell_type": "code",
   "execution_count": 10,
   "metadata": {},
   "outputs": [],
   "source": [
    "def clean_ingredients(ingredient):\n",
    "    return re.sub(\"[^a-zA-Z]\", \" \", ingredient).strip().lower()"
   ]
  },
  {
   "cell_type": "code",
   "execution_count": 11,
   "metadata": {},
   "outputs": [],
   "source": [
    "df['ingredients'] = df['ingredients'].apply(clean_ingredients)"
   ]
  },
  {
   "cell_type": "markdown",
   "metadata": {},
   "source": [
    "### Remove stop words"
   ]
  },
  {
   "cell_type": "code",
   "execution_count": 12,
   "metadata": {},
   "outputs": [],
   "source": [
    "with open('../data/stopwords.txt', 'r') as infile:\n",
    "    stop_words = infile.read().split('\\n')"
   ]
  },
  {
   "cell_type": "code",
   "execution_count": 13,
   "metadata": {},
   "outputs": [],
   "source": [
    "def remove_stop_words(ingredients):\n",
    "    clean = [k for k in ingredients.split() if k not in stop_words]\n",
    "    clean = ' '.join(clean).strip()\n",
    "    return clean"
   ]
  },
  {
   "cell_type": "code",
   "execution_count": 14,
   "metadata": {},
   "outputs": [],
   "source": [
    "df['ingredients'] = df['ingredients'].apply(remove_stop_words)"
   ]
  },
  {
   "cell_type": "markdown",
   "metadata": {},
   "source": [
    "### Convert calories and review counts into numbers"
   ]
  },
  {
   "cell_type": "code",
   "execution_count": 15,
   "metadata": {
    "scrolled": true
   },
   "outputs": [],
   "source": [
    "df['calorie_count'] = pd.to_numeric( df['calorie_count'].str.replace(\"cals\",\"\") )"
   ]
  },
  {
   "cell_type": "code",
   "execution_count": 16,
   "metadata": {},
   "outputs": [],
   "source": [
    "df['review_count'] = pd.to_numeric( df['review_count'].str.replace(\"reviews\",\"\") )"
   ]
  },
  {
   "cell_type": "markdown",
   "metadata": {},
   "source": [
    "### Remove recipes with no calorie count"
   ]
  },
  {
   "cell_type": "code",
   "execution_count": 17,
   "metadata": {},
   "outputs": [
    {
     "data": {
      "text/html": [
       "<div>\n",
       "<style>\n",
       "    .dataframe thead tr:only-child th {\n",
       "        text-align: right;\n",
       "    }\n",
       "\n",
       "    .dataframe thead th {\n",
       "        text-align: left;\n",
       "    }\n",
       "\n",
       "    .dataframe tbody tr th {\n",
       "        vertical-align: top;\n",
       "    }\n",
       "</style>\n",
       "<table border=\"1\" class=\"dataframe\">\n",
       "  <thead>\n",
       "    <tr style=\"text-align: right;\">\n",
       "      <th></th>\n",
       "      <th>ingredients</th>\n",
       "      <th>recipe_name</th>\n",
       "      <th>calorie_count</th>\n",
       "      <th>cook_time</th>\n",
       "      <th>recipe_url</th>\n",
       "      <th>review_count</th>\n",
       "      <th>overall_rating</th>\n",
       "    </tr>\n",
       "    <tr>\n",
       "      <th>recipe_id</th>\n",
       "      <th></th>\n",
       "      <th></th>\n",
       "      <th></th>\n",
       "      <th></th>\n",
       "      <th></th>\n",
       "      <th></th>\n",
       "      <th></th>\n",
       "    </tr>\n",
       "  </thead>\n",
       "  <tbody>\n",
       "    <tr>\n",
       "      <th>257432</th>\n",
       "      <td>slivered almonds white sugar butter milk yogur...</td>\n",
       "      <td>date-almond-and-yogurt-bread</td>\n",
       "      <td>470.0</td>\n",
       "      <td>1 h 10 m</td>\n",
       "      <td>https://www.allrecipes.com/recipe/257432/date-...</td>\n",
       "      <td>1</td>\n",
       "      <td>4.0</td>\n",
       "    </tr>\n",
       "  </tbody>\n",
       "</table>\n",
       "</div>"
      ],
      "text/plain": [
       "                                                 ingredients  \\\n",
       "recipe_id                                                      \n",
       "257432     slivered almonds white sugar butter milk yogur...   \n",
       "\n",
       "                            recipe_name  calorie_count cook_time  \\\n",
       "recipe_id                                                          \n",
       "257432     date-almond-and-yogurt-bread          470.0  1 h 10 m   \n",
       "\n",
       "                                                  recipe_url  review_count  \\\n",
       "recipe_id                                                                    \n",
       "257432     https://www.allrecipes.com/recipe/257432/date-...             1   \n",
       "\n",
       "           overall_rating  \n",
       "recipe_id                  \n",
       "257432                4.0  "
      ]
     },
     "execution_count": 17,
     "metadata": {},
     "output_type": "execute_result"
    }
   ],
   "source": [
    "df.dropna(subset=['calorie_count'], inplace=True)\n",
    "df.loc[df['recipe_name']=='date-almond-and-yogurt-bread']"
   ]
  },
  {
   "cell_type": "markdown",
   "metadata": {},
   "source": [
    "### Check if the recipe names are unique:"
   ]
  },
  {
   "cell_type": "code",
   "execution_count": 18,
   "metadata": {
    "scrolled": true
   },
   "outputs": [
    {
     "data": {
      "text/plain": [
       "992"
      ]
     },
     "execution_count": 18,
     "metadata": {},
     "output_type": "execute_result"
    }
   ],
   "source": [
    "len(df)"
   ]
  },
  {
   "cell_type": "code",
   "execution_count": 19,
   "metadata": {},
   "outputs": [
    {
     "data": {
      "text/plain": [
       "992"
      ]
     },
     "execution_count": 19,
     "metadata": {},
     "output_type": "execute_result"
    }
   ],
   "source": [
    "len(df['recipe_name'].unique())"
   ]
  },
  {
   "cell_type": "markdown",
   "metadata": {},
   "source": [
    "Let's drop the duplicates (if any):"
   ]
  },
  {
   "cell_type": "code",
   "execution_count": 20,
   "metadata": {},
   "outputs": [],
   "source": [
    "df = df[~df['recipe_name'].duplicated()]"
   ]
  },
  {
   "cell_type": "code",
   "execution_count": 21,
   "metadata": {},
   "outputs": [
    {
     "data": {
      "text/plain": [
       "(992, 7)"
      ]
     },
     "execution_count": 21,
     "metadata": {},
     "output_type": "execute_result"
    }
   ],
   "source": [
    "df.shape"
   ]
  },
  {
   "cell_type": "markdown",
   "metadata": {},
   "source": [
    "### Remove empty ingredient lists"
   ]
  },
  {
   "cell_type": "code",
   "execution_count": 22,
   "metadata": {},
   "outputs": [],
   "source": [
    "df = df[df['ingredients'].apply(lambda x: bool(x))]"
   ]
  },
  {
   "cell_type": "code",
   "execution_count": 23,
   "metadata": {},
   "outputs": [
    {
     "data": {
      "text/plain": [
       "(992, 7)"
      ]
     },
     "execution_count": 23,
     "metadata": {},
     "output_type": "execute_result"
    }
   ],
   "source": [
    "df.shape"
   ]
  },
  {
   "cell_type": "code",
   "execution_count": 24,
   "metadata": {},
   "outputs": [
    {
     "data": {
      "text/html": [
       "<div>\n",
       "<style>\n",
       "    .dataframe thead tr:only-child th {\n",
       "        text-align: right;\n",
       "    }\n",
       "\n",
       "    .dataframe thead th {\n",
       "        text-align: left;\n",
       "    }\n",
       "\n",
       "    .dataframe tbody tr th {\n",
       "        vertical-align: top;\n",
       "    }\n",
       "</style>\n",
       "<table border=\"1\" class=\"dataframe\">\n",
       "  <thead>\n",
       "    <tr style=\"text-align: right;\">\n",
       "      <th></th>\n",
       "      <th>ingredients</th>\n",
       "      <th>recipe_name</th>\n",
       "      <th>calorie_count</th>\n",
       "      <th>cook_time</th>\n",
       "      <th>recipe_url</th>\n",
       "      <th>review_count</th>\n",
       "      <th>overall_rating</th>\n",
       "    </tr>\n",
       "    <tr>\n",
       "      <th>recipe_id</th>\n",
       "      <th></th>\n",
       "      <th></th>\n",
       "      <th></th>\n",
       "      <th></th>\n",
       "      <th></th>\n",
       "      <th></th>\n",
       "      <th></th>\n",
       "    </tr>\n",
       "  </thead>\n",
       "  <tbody>\n",
       "    <tr>\n",
       "      <th>237052</th>\n",
       "      <td>sweetened condensed milk heavy whipping cream ...</td>\n",
       "      <td>homemade-coffee-creamer-chocolate-caramel</td>\n",
       "      <td>243.0</td>\n",
       "      <td>10 m</td>\n",
       "      <td>https://www.allrecipes.com/recipe/237052/homem...</td>\n",
       "      <td>4</td>\n",
       "      <td>3.250000</td>\n",
       "    </tr>\n",
       "    <tr>\n",
       "      <th>237363</th>\n",
       "      <td>rolled oats cashews shredded coconut dried mix...</td>\n",
       "      <td>double-chocolate-granola</td>\n",
       "      <td>190.0</td>\n",
       "      <td>55 m</td>\n",
       "      <td>https://www.allrecipes.com/recipe/237363/doubl...</td>\n",
       "      <td>1</td>\n",
       "      <td>5.000000</td>\n",
       "    </tr>\n",
       "    <tr>\n",
       "      <th>231960</th>\n",
       "      <td>flour butter confectioners sugar walnuts confe...</td>\n",
       "      <td>swedish-nutballs</td>\n",
       "      <td>297.0</td>\n",
       "      <td>55 m</td>\n",
       "      <td>https://www.allrecipes.com/recipe/231960/swedi...</td>\n",
       "      <td>1</td>\n",
       "      <td>5.000000</td>\n",
       "    </tr>\n",
       "    <tr>\n",
       "      <th>236729</th>\n",
       "      <td>chicken broth bulgur olive oil onion stalks ce...</td>\n",
       "      <td>mediterranean-bulgur-wheat</td>\n",
       "      <td>213.0</td>\n",
       "      <td>30 m</td>\n",
       "      <td>https://www.allrecipes.com/recipe/236729/medit...</td>\n",
       "      <td>0</td>\n",
       "      <td>0.000000</td>\n",
       "    </tr>\n",
       "    <tr>\n",
       "      <th>222411</th>\n",
       "      <td>vodka cranberry juice grapefruit juice ice cub...</td>\n",
       "      <td>sea-breeze-cocktail</td>\n",
       "      <td>196.0</td>\n",
       "      <td>5 m</td>\n",
       "      <td>https://www.allrecipes.com/recipe/222411/sea-b...</td>\n",
       "      <td>10</td>\n",
       "      <td>4.588235</td>\n",
       "    </tr>\n",
       "  </tbody>\n",
       "</table>\n",
       "</div>"
      ],
      "text/plain": [
       "                                                 ingredients  \\\n",
       "recipe_id                                                      \n",
       "237052     sweetened condensed milk heavy whipping cream ...   \n",
       "237363     rolled oats cashews shredded coconut dried mix...   \n",
       "231960     flour butter confectioners sugar walnuts confe...   \n",
       "236729     chicken broth bulgur olive oil onion stalks ce...   \n",
       "222411     vodka cranberry juice grapefruit juice ice cub...   \n",
       "\n",
       "                                         recipe_name  calorie_count cook_time  \\\n",
       "recipe_id                                                                       \n",
       "237052     homemade-coffee-creamer-chocolate-caramel          243.0      10 m   \n",
       "237363                      double-chocolate-granola          190.0      55 m   \n",
       "231960                              swedish-nutballs          297.0      55 m   \n",
       "236729                    mediterranean-bulgur-wheat          213.0      30 m   \n",
       "222411                           sea-breeze-cocktail          196.0       5 m   \n",
       "\n",
       "                                                  recipe_url  review_count  \\\n",
       "recipe_id                                                                    \n",
       "237052     https://www.allrecipes.com/recipe/237052/homem...             4   \n",
       "237363     https://www.allrecipes.com/recipe/237363/doubl...             1   \n",
       "231960     https://www.allrecipes.com/recipe/231960/swedi...             1   \n",
       "236729     https://www.allrecipes.com/recipe/236729/medit...             0   \n",
       "222411     https://www.allrecipes.com/recipe/222411/sea-b...            10   \n",
       "\n",
       "           overall_rating  \n",
       "recipe_id                  \n",
       "237052           3.250000  \n",
       "237363           5.000000  \n",
       "231960           5.000000  \n",
       "236729           0.000000  \n",
       "222411           4.588235  "
      ]
     },
     "execution_count": 24,
     "metadata": {},
     "output_type": "execute_result"
    }
   ],
   "source": [
    "df.head()"
   ]
  },
  {
   "cell_type": "markdown",
   "metadata": {},
   "source": [
    "### Save the cleaned ingredients to file"
   ]
  },
  {
   "cell_type": "code",
   "execution_count": 25,
   "metadata": {},
   "outputs": [],
   "source": [
    "df.to_csv('../FoodFlix/static/data/clean_ingredients.csv')"
   ]
  }
 ],
 "metadata": {
  "kernelspec": {
   "display_name": "Python [default]",
   "language": "python",
   "name": "python3"
  },
  "language_info": {
   "codemirror_mode": {
    "name": "ipython",
    "version": 3
   },
   "file_extension": ".py",
   "mimetype": "text/x-python",
   "name": "python",
   "nbconvert_exporter": "python",
   "pygments_lexer": "ipython3",
   "version": "3.6.5"
  }
 },
 "nbformat": 4,
 "nbformat_minor": 2
}
